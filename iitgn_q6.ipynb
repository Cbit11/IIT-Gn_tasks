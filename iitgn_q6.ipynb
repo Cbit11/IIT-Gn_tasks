{
  "nbformat": 4,
  "nbformat_minor": 0,
  "metadata": {
    "colab": {
      "provenance": []
    },
    "kernelspec": {
      "name": "python3",
      "display_name": "Python 3"
    },
    "language_info": {
      "name": "python"
    }
  },
  "cells": [
    {
      "cell_type": "code",
      "execution_count": 21,
      "metadata": {
        "id": "7U4O1OFrS8wP"
      },
      "outputs": [],
      "source": [
        "import numpy as np\n",
        "import matplotlib.pyplot as plt\n",
        "\n",
        "# Generate a sample dataset from a two-mode distribution\n",
        "np.random.seed(0)\n",
        "data = np.concatenate([np.random.normal(-2, 1, 1000), np.random.normal(2, 1, 1000)])\n",
        "\n",
        "# Define the initial parameters of the single normal distribution\n",
        "mu = np.random.uniform(-5, 5)\n",
        "sigma = np.random.uniform(0.1, 5)\n",
        "\n",
        "# Define the number of iterations and the learning rate for the EM algorithm\n",
        "n_iterations = 50\n",
        "learning_rate = 0.1\n",
        "\n",
        "# Define the Forward and Reverse KL divergence functions\n",
        "def forward_kl_divergence(p, q):\n",
        "    return np.sum(p * np.log(p / q))\n",
        "\n",
        "def reverse_kl_divergence(p, q):\n",
        "    return np.sum(q * np.log(q / p))\n",
        "\n",
        "# Define a function to compute the probabilities of each data point belonging to each mode\n",
        "def compute_probabilities(data, mu1, sigma1, mu2, sigma2):\n",
        "    p1 = np.exp(-(data - mu1)**2 / (2 * sigma1**2)) /(sigma1 * np.sqrt(2*np.pi))\n",
        "    p2 = np.exp(-(data - mu2)**2 / (2 * sigma2**2)) / (sigma2 * np.sqrt(2*np.pi))\n",
        "    p_total = p1 + p2\n",
        "    p1_given_data = p1 / p_total\n",
        "    p2_given_data = p2 / p_total\n",
        "    return p1_given_data, p2_given_data\n"
      ]
    },
    {
      "cell_type": "code",
      "source": [
        "def update_parameters(data, p1_given_data, p2_given_data, mu, sigma, learning_rate):\n",
        "  mu_new = (np.sum(p1_given_data * data) + np.sum(p2_given_data * data)) / (np.sum(p1_given_data) + np.sum(p2_given_data))\n",
        "  sigma_new = np.sqrt((np.sum(p1_given_data * (data - mu_new)**2) + np.sum(p2_given_data * (data - mu_new)**2)) / (np.sum(p1_given_data) + np.sum(p2_given_data)))\n",
        "  mu = mu + learning_rate * (mu_new - mu)\n",
        "  sigma = sigma + learning_rate * (sigma_new - sigma)\n",
        "  return mu, sigma"
      ],
      "metadata": {
        "id": "P7fnVECbTgDf"
      },
      "execution_count": 22,
      "outputs": []
    },
    {
      "cell_type": "code",
      "source": [
        "def plot_distributions(data, mu1, sigma1, mu2, sigma2, mu, sigma):\n",
        "  fig, ax = plt.subplots(figsize=(8,6))\n",
        "  ax.hist(data, bins=50, density=True, alpha=0.5, label='Data')\n",
        "  x = np.linspace(-10, 10, 1000)\n",
        "  ax.plot(x, np.exp(-(x - mu1)*2 / (2 * sigma1)) / (sigma1 * np.sqrt(2*np.pi)), label='Mode 1')\n",
        "  ax.plot(x, np.exp(-(x - mu2)*2 / (2 * sigma2)) / (sigma2 * np.sqrt(2*np.pi)), label='Mode 2')\n",
        "  ax.plot(x, np.exp(-(x - mu)*2 / (2 * sigma2)) / (sigma * np.sqrt(2*np.pi)), label='Single Normal')\n",
        "  ax.legend()\n",
        "  ax.set_xlim(-10, 10)\n",
        "  ax.set_ylim(0, 0.4)\n",
        "  return fig"
      ],
      "metadata": {
        "id": "lH7FuCtvTnCu"
      },
      "execution_count": 23,
      "outputs": []
    },
    {
      "cell_type": "code",
      "source": [
        "for i in range(n_iterations):\n",
        "# Compute the probabilities of each data point belonging to each mode\n",
        "  p1_given_data, p2_given_data = compute_probabilities(data, -2, 1, 2, 1)"
      ],
      "metadata": {
        "id": "4MDUE0f7U0v1"
      },
      "execution_count": 24,
      "outputs": []
    },
    {
      "cell_type": "code",
      "source": [
        "forward_kl_divergences = []\n",
        "reverse_kl_divergences = []"
      ],
      "metadata": {
        "id": "BkdN1G1YVP0N"
      },
      "execution_count": 25,
      "outputs": []
    },
    {
      "cell_type": "code",
      "source": [
        "forward_frames = []\n",
        "reverse_frames = []"
      ],
      "metadata": {
        "id": "_cHf4c1-VHuG"
      },
      "execution_count": 26,
      "outputs": []
    },
    {
      "cell_type": "code",
      "source": [
        "# Compute the Forward KL divergence and update the parameters of the single normal distribution\n",
        "forward_kl_div = forward_kl_divergence(p1_given_data + p2_given_data, np.exp(-(data - mu)**2 / (2 * sigma**2)) / (sigma * np.sqrt(2*np.pi)))\n",
        "mu, sigma = update_parameters(data, p1_given_data, p2_given_data, mu, sigma, learning_rate)\n",
        "\n",
        "# Plot the two-mode distribution and the single normal distribution and save the frame\n",
        "forward_frames.append(plot_distributions(data, -2, 1, 2, 1, mu, sigma))\n",
        "\n",
        "# Append the Forward KL divergence value to the list\n",
        "forward_kl_divergences.append(forward_kl_div)\n",
        "\n",
        "# Compute the Reverse KL divergence and update the parameters\n",
        "reverse_kl_div = reverse_kl_divergence(p1_given_data + p2_given_data, p_normal)\n",
        "mu, sigma = update_parameters(data, p1_given_data + p2_given_data, p_normal, mu, sigma, learning_rate)\n",
        "# Plot the two-mode distribution and the single normal distribution and save the frame\n",
        "reverse_frames.append(plot_distributions(data, -2, 1, 2, 1, mu, sigma))\n",
        "\n",
        "# Append the Reverse KL divergence value to the list\n",
        "reverse_kl_divergences.append(reverse_kl_div)"
      ],
      "metadata": {
        "colab": {
          "base_uri": "https://localhost:8080/",
          "height": 596
        },
        "id": "L9wqKULYUFdG",
        "outputId": "5f0f1337-7ae3-4967-c3b5-e9adbe7880ae"
      },
      "execution_count": 27,
      "outputs": [
        {
          "output_type": "error",
          "ename": "NameError",
          "evalue": "ignored",
          "traceback": [
            "\u001b[0;31m---------------------------------------------------------------------------\u001b[0m",
            "\u001b[0;31mNameError\u001b[0m                                 Traceback (most recent call last)",
            "\u001b[0;32m<ipython-input-27-8fc998c14dc9>\u001b[0m in \u001b[0;36m<module>\u001b[0;34m\u001b[0m\n\u001b[1;32m     10\u001b[0m \u001b[0;34m\u001b[0m\u001b[0m\n\u001b[1;32m     11\u001b[0m \u001b[0;31m# Compute the Reverse KL divergence and update the parameters\u001b[0m\u001b[0;34m\u001b[0m\u001b[0;34m\u001b[0m\u001b[0;34m\u001b[0m\u001b[0m\n\u001b[0;32m---> 12\u001b[0;31m \u001b[0mreverse_kl_div\u001b[0m \u001b[0;34m=\u001b[0m \u001b[0mreverse_kl_divergence\u001b[0m\u001b[0;34m(\u001b[0m\u001b[0mp1_given_data\u001b[0m \u001b[0;34m+\u001b[0m \u001b[0mp2_given_data\u001b[0m\u001b[0;34m,\u001b[0m \u001b[0mp_normal\u001b[0m\u001b[0;34m)\u001b[0m\u001b[0;34m\u001b[0m\u001b[0;34m\u001b[0m\u001b[0m\n\u001b[0m\u001b[1;32m     13\u001b[0m \u001b[0mmu\u001b[0m\u001b[0;34m,\u001b[0m \u001b[0msigma\u001b[0m \u001b[0;34m=\u001b[0m \u001b[0mupdate_parameters\u001b[0m\u001b[0;34m(\u001b[0m\u001b[0mdata\u001b[0m\u001b[0;34m,\u001b[0m \u001b[0mp1_given_data\u001b[0m \u001b[0;34m+\u001b[0m \u001b[0mp2_given_data\u001b[0m\u001b[0;34m,\u001b[0m \u001b[0mp_normal\u001b[0m\u001b[0;34m,\u001b[0m \u001b[0mmu\u001b[0m\u001b[0;34m,\u001b[0m \u001b[0msigma\u001b[0m\u001b[0;34m,\u001b[0m \u001b[0mlearning_rate\u001b[0m\u001b[0;34m)\u001b[0m\u001b[0;34m\u001b[0m\u001b[0;34m\u001b[0m\u001b[0m\n\u001b[1;32m     14\u001b[0m \u001b[0;31m# Plot the two-mode distribution and the single normal distribution and save the frame\u001b[0m\u001b[0;34m\u001b[0m\u001b[0;34m\u001b[0m\u001b[0;34m\u001b[0m\u001b[0m\n",
            "\u001b[0;31mNameError\u001b[0m: name 'p_normal' is not defined"
          ]
        },
        {
          "output_type": "display_data",
          "data": {
            "text/plain": [
              "<Figure size 576x432 with 1 Axes>"
            ],
            "image/png": "[encoded data removed]"
          },
          "metadata": {
            "needs_background": "light"
          }
        }
      ]
    }
  ]
}